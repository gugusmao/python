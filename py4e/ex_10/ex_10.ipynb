{
 "cells": [
  {
   "cell_type": "code",
   "execution_count": 85,
   "metadata": {},
   "outputs": [],
   "source": [
    "text = open('mbox-short.txt')\n",
    "#print(text)\n",
    "import re"
   ]
  },
  {
   "cell_type": "code",
   "execution_count": 86,
   "metadata": {},
   "outputs": [],
   "source": [
    "search_1 = '^Author+'\n",
    "search_2 = '^X-+'\n",
    "search_3 = 'java$'\n",
    "count = 0"
   ]
  },
  {
   "cell_type": "code",
   "execution_count": 87,
   "metadata": {},
   "outputs": [
    {
     "name": "stdout",
     "output_type": "stream",
     "text": [
      "mbox-short.txt had  59  lines that matched  java$\n"
     ]
    }
   ],
   "source": [
    "for line in text:\n",
    "    #words = lines.split()\n",
    "    #print(words)\n",
    "    if re.findall(search_3, line):\n",
    "        count += 1\n",
    "        #print(line)\n",
    "    \n",
    "print('mbox-short.txt had ',count,' lines that matched ', search_3)"
   ]
  },
  {
   "cell_type": "code",
   "execution_count": null,
   "metadata": {},
   "outputs": [],
   "source": []
  }
 ],
 "metadata": {
  "interpreter": {
   "hash": "b7a0eeec05bf01b642157d05502471234af548168a2403572fa197cf2e81eaeb"
  },
  "kernelspec": {
   "display_name": "Python 3.8.8 64-bit ('base': conda)",
   "language": "python",
   "name": "python3"
  },
  "language_info": {
   "codemirror_mode": {
    "name": "ipython",
    "version": 3
   },
   "file_extension": ".py",
   "mimetype": "text/x-python",
   "name": "python",
   "nbconvert_exporter": "python",
   "pygments_lexer": "ipython3",
   "version": "3.8.8"
  },
  "orig_nbformat": 4
 },
 "nbformat": 4,
 "nbformat_minor": 2
}
