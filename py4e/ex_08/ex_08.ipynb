{
 "cells": [
  {
   "cell_type": "markdown",
   "source": [
    "#Exercise 1: Write a function called chop that takes a list and modifies it, removing the first and last elements, and returns None. Then write a function called middle that takes a list and returns a new list that contains all but the first and last elements."
   ],
   "metadata": {}
  },
  {
   "cell_type": "code",
   "execution_count": 9,
   "source": [
    "def chop(list_start):\r\n",
    "    #removing the first and last element\r\n",
    "    list_start.pop(0)\r\n",
    "    list_start.pop()\r\n",
    "    return list_start\r\n",
    "    \r\n",
    "myList = [1,2,3,4]\r\n",
    "chop(myList)\r\n",
    "print(myList)\r\n",
    "    "
   ],
   "outputs": [
    {
     "output_type": "stream",
     "name": "stdout",
     "text": [
      "[2, 3]\n"
     ]
    }
   ],
   "metadata": {}
  },
  {
   "cell_type": "markdown",
   "source": [
    "Exercise 2: Figure out which line of the above program is still not properly guarded. See if you can construct a text file which causes the program to fail and then modify the program so that the line is properly guarded and test it to make sure it handles your new text file.\r\n",
    "\r\n",
    "Exercise 3: Rewrite the guardian code in the above example without two if statements. Instead, use a compound logical expression using the or logical operator with a single if statement."
   ],
   "metadata": {}
  },
  {
   "cell_type": "code",
   "execution_count": 20,
   "source": [
    "fhand = open('mbox-short.txt')                          #open the file\r\n",
    "\r\n",
    "for line in fhand:                                      #loop to take line by line\r\n",
    "    words = line.split()                                #split the line into a list word by word\r\n",
    "    #checks if the list of words contains 'From' and is greater or equal to 3 words in the list\r\n",
    "    if (len(words) >= 3) and (words[0] == 'From'):  \r\n",
    "        print(words[2])                                 #prints the third word that is the week day"
   ],
   "outputs": [
    {
     "output_type": "stream",
     "name": "stdout",
     "text": [
      "Sat\n",
      "Fri\n",
      "Fri\n",
      "Fri\n",
      "Fri\n",
      "Fri\n",
      "Fri\n",
      "Fri\n",
      "Fri\n",
      "Fri\n",
      "Fri\n",
      "Fri\n",
      "Fri\n",
      "Fri\n",
      "Fri\n",
      "Fri\n",
      "Fri\n",
      "Fri\n",
      "Fri\n",
      "Fri\n",
      "Fri\n",
      "Thu\n",
      "Thu\n",
      "Thu\n",
      "Thu\n",
      "Thu\n",
      "Thu\n"
     ]
    }
   ],
   "metadata": {}
  },
  {
   "cell_type": "markdown",
   "source": [
    "Exercise 4: Find all unique words in a file\r\n",
    "\r\n",
    "Shakespeare used over 20,000 words in his works. But how would you determine that? How would you produce the list of all the words that Shakespeare used? Would you download all his work, read it and track all unique words by hand?\r\n",
    "\r\n",
    "Let’s use Python to achieve that instead. List all unique words, sorted in alphabetical order, that are stored in a file romeo.txt containing a subset of Shakespeare’s work.\r\n",
    "\r\n",
    "To get started, download a copy of the file www.py4e.com/code3/romeo.txt. Create a list of unique words, which will contain the final result. Write a program to open the file romeo.txt and read it line by line. For each line, split the line into a list of words using the split function. For each word, check to see if the word is already in the list of unique words. If the word is not in the list of unique words, add it to the list. When the program completes, sort and print the list of unique words in alphabetical order."
   ],
   "metadata": {}
  },
  {
   "cell_type": "code",
   "execution_count": 6,
   "source": [
    "fhand = open('romeo.txt')               #open the file\r\n",
    "\r\n",
    "unique_words = []                       #list variable empty\r\n",
    "\r\n",
    "\r\n",
    "for lines in fhand:\r\n",
    "    lines.rstrip()                      #removing the right blank space\r\n",
    "    words_list = lines.split()          #spliting the phrase into a list of words\r\n",
    "    for word in words_list:             # checking each word if it is in the list of unique words\r\n",
    "        if not word in unique_words:\r\n",
    "            unique_words.append(word)\r\n",
    "            \r\n",
    "unique_words.sort()                     #sort in alphabetical order then print it out\r\n",
    "print(unique_words)\r\n",
    "            "
   ],
   "outputs": [
    {
     "output_type": "stream",
     "name": "stdout",
     "text": [
      "['Arise', 'But', 'It', 'Juliet', 'Who', 'already', 'and', 'breaks', 'east', 'envious', 'fair', 'grief', 'is', 'kill', 'light', 'moon', 'pale', 'sick', 'soft', 'sun', 'the', 'through', 'what', 'window', 'with', 'yonder']\n"
     ]
    }
   ],
   "metadata": {}
  },
  {
   "cell_type": "markdown",
   "source": [
    "Exercise 5: Minimalist Email Client.\r\n",
    "\r\n",
    "MBOX (mail box) is a popular file format to store and share a collection of emails. This was used by early email servers and desktop apps. Without getting into too many details, MBOX is a text file, which stores emails consecutively. Emails are separated by a special line which starts with From (notice the space). Importantly, lines starting with From: (notice the colon) describes the email itself and does not act as a separator. Imagine you wrote a minimalist email app, that lists the email of the senders in the user’s Inbox and counts the number of emails.\r\n",
    "\r\n",
    "Write a program to read through the mail box data and when you find line that starts with “From”, you will split the line into words using the split function. We are interested in who sent the message, which is the second word on the From line.\r\n",
    "\r\n",
    "From stephen.marquard@uct.ac.za Sat Jan 5 09:14:16 2008\r\n",
    "You will parse the From line and print out the second word for each From line, then you will also count the number of From (not From:) lines and print out a count at the end. This is a good sample output with a few lines removed:"
   ],
   "metadata": {}
  },
  {
   "cell_type": "code",
   "execution_count": 14,
   "source": [
    "fhand = open('mbox-short.txt')                          #open the file\r\n",
    "count = 0\r\n",
    "for line in fhand:                                      #loop to take line by line\r\n",
    "    words = line.split()                                #split the line into a list word by word\r\n",
    "    \r\n",
    "    #checks if the list of words contains 'From' and print the second object in the list that is the e-mail\r\n",
    "    if 'From' in words:  \r\n",
    "        print(words[1])                                 \r\n",
    "        count += 1\r\n",
    "        \r\n",
    "print('Thera were ',count,' lines in the file with From as the first word')"
   ],
   "outputs": [
    {
     "output_type": "stream",
     "name": "stdout",
     "text": [
      "stephen.marquard@uct.ac.za\n",
      "louis@media.berkeley.edu\n",
      "zqian@umich.edu\n",
      "rjlowe@iupui.edu\n",
      "zqian@umich.edu\n",
      "rjlowe@iupui.edu\n",
      "cwen@iupui.edu\n",
      "cwen@iupui.edu\n",
      "gsilver@umich.edu\n",
      "gsilver@umich.edu\n",
      "zqian@umich.edu\n",
      "gsilver@umich.edu\n",
      "wagnermr@iupui.edu\n",
      "zqian@umich.edu\n",
      "antranig@caret.cam.ac.uk\n",
      "gopal.ramasammycook@gmail.com\n",
      "david.horwitz@uct.ac.za\n",
      "david.horwitz@uct.ac.za\n",
      "david.horwitz@uct.ac.za\n",
      "david.horwitz@uct.ac.za\n",
      "stephen.marquard@uct.ac.za\n",
      "louis@media.berkeley.edu\n",
      "louis@media.berkeley.edu\n",
      "ray@media.berkeley.edu\n",
      "cwen@iupui.edu\n",
      "cwen@iupui.edu\n",
      "cwen@iupui.edu\n",
      "Thera were  27  lines in the file with From as the first word\n"
     ]
    }
   ],
   "metadata": {}
  },
  {
   "cell_type": "markdown",
   "source": [
    "Exercise 6: Rewrite the program that prompts the user for a list of numbers and prints out the maximum and minimum of the numbers at the end when the user enters “done”. Write the program to store the numbers the user enters in a list and use the max() and min() functions to compute the maximum and minimum numbers after the loop completes."
   ],
   "metadata": {}
  },
  {
   "cell_type": "code",
   "execution_count": null,
   "source": [],
   "outputs": [],
   "metadata": {}
  }
 ],
 "metadata": {
  "orig_nbformat": 4,
  "language_info": {
   "name": "python",
   "version": "3.8.8",
   "mimetype": "text/x-python",
   "codemirror_mode": {
    "name": "ipython",
    "version": 3
   },
   "pygments_lexer": "ipython3",
   "nbconvert_exporter": "python",
   "file_extension": ".py"
  },
  "kernelspec": {
   "name": "python3",
   "display_name": "Python 3.8.8 64-bit ('base': conda)"
  },
  "interpreter": {
   "hash": "b7a0eeec05bf01b642157d05502471234af548168a2403572fa197cf2e81eaeb"
  }
 },
 "nbformat": 4,
 "nbformat_minor": 2
}