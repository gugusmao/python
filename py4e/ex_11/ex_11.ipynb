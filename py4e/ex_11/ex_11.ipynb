{
 "cells": [
  {
   "cell_type": "code",
   "execution_count": 40,
   "metadata": {},
   "outputs": [],
   "source": [
    "text = open('mbox-short.txt')\n",
    "#print(text)\n",
    "import re\n",
    "import numpy\n",
    "\n",
    "sum_ = list()"
   ]
  },
  {
   "cell_type": "code",
   "execution_count": 41,
   "metadata": {},
   "outputs": [
    {
     "name": "stdout",
     "output_type": "stream",
     "text": [
      "39757\n"
     ]
    }
   ],
   "source": [
    "for line in text:\n",
    "    #words = lines.split()\n",
    "    #print(words)\n",
    "    if re.findall('^New Revision: ([0-9]+)', line):  \n",
    "        #print(line)  \n",
    "        #print(re.findall('^New Revision: ([0-9]+)', line))\n",
    "        sum_.append(re.findall('^New Revision: ([0-9]+)', line))\n",
    "\n",
    "sum_ = numpy.float_(sum_)       \n",
    "avg = numpy.mean(sum_)\n",
    "print(round(avg))"
   ]
  },
  {
   "cell_type": "code",
   "execution_count": null,
   "metadata": {},
   "outputs": [],
   "source": []
  }
 ],
 "metadata": {
  "interpreter": {
   "hash": "b7a0eeec05bf01b642157d05502471234af548168a2403572fa197cf2e81eaeb"
  },
  "kernelspec": {
   "display_name": "Python 3.8.8 64-bit ('base': conda)",
   "language": "python",
   "name": "python3"
  },
  "language_info": {
   "codemirror_mode": {
    "name": "ipython",
    "version": 3
   },
   "file_extension": ".py",
   "mimetype": "text/x-python",
   "name": "python",
   "nbconvert_exporter": "python",
   "pygments_lexer": "ipython3",
   "version": "3.8.8"
  },
  "orig_nbformat": 4
 },
 "nbformat": 4,
 "nbformat_minor": 2
}
