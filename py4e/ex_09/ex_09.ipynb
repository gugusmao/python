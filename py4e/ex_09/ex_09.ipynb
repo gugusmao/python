{
 "cells": [
  {
   "cell_type": "markdown",
   "metadata": {},
   "source": [
    "Write a program that reads the words in words.txt and stores them as keys in a dictionary. It doesn’t matter what the values are. Then you can use the in operator as a fast way to check whether a string is in the dictionary."
   ]
  },
  {
   "cell_type": "code",
   "execution_count": 372,
   "metadata": {},
   "outputs": [
    {
     "name": "stdout",
     "output_type": "stream",
     "text": [
      "<_io.TextIOWrapper name='words.txt' mode='r' encoding='cp1252'>\n"
     ]
    }
   ],
   "source": [
    "#openning the archive\n",
    "text_arch = open('words.txt')\n",
    "print(text_arch)"
   ]
  },
  {
   "cell_type": "code",
   "execution_count": 373,
   "metadata": {},
   "outputs": [
    {
     "data": {
      "text/plain": [
       "True"
      ]
     },
     "execution_count": 373,
     "metadata": {},
     "output_type": "execute_result"
    }
   ],
   "source": [
    "import string\n",
    "s_ponctuation = string.punctuation #gets all ponctuation that python considers\n",
    "\n",
    "text_dict = {}             #empty dictionary\n",
    "\n",
    "for text_lines in text_arch:     #get the text and split lines into words\n",
    "    text_words = text_lines.split()\n",
    "    #print(text_words)\n",
    "    for each_word in text_words:  #get the words and put each word as a key in the dict\n",
    "        #print(each_word)\n",
    "        each_word = each_word.rstrip() #strips out the right blank side of the line\n",
    "        each_word = each_word.translate(each_word.maketrans('', '', s_ponctuation)) #remove the ponctuations\n",
    "        each_word = each_word.lower() #transformer all letters in lowercase \n",
    "        text_dict[each_word] = text_dict.get(each_word, 0) + 1\n",
    "        #print(text_dict[each_word])  \n",
    "        \n",
    "#print(text_dict)\n",
    "    \n",
    "text_keys = list(text_dict.keys()) #put all keys into a list\n",
    "#print(text_values)\n",
    "\n",
    "'computers' in text_keys #check if it is in the list\n",
    "\n",
    "#text_dict.get('computers', 'false') #check if it is in the ditc directly, if not it returns 'false'"
   ]
  },
  {
   "cell_type": "code",
   "execution_count": 374,
   "metadata": {},
   "outputs": [
    {
     "name": "stdout",
     "output_type": "stream",
     "text": [
      "a 3\n",
      "activity 1\n",
      "amounts 1\n",
      "analysis 1\n",
      "and 5\n",
      "are 3\n",
      "as 1\n",
      "ask 1\n",
      "assistants 1\n",
      "assumes 1\n",
      "be 1\n",
      "behalf 2\n",
      "best 1\n",
      "book 1\n",
      "boring 1\n",
      "built 1\n",
      "can 4\n",
      "care 1\n",
      "cell 1\n",
      "computer 2\n",
      "computers 5\n",
      "continuously 1\n",
      "could 2\n",
      "creative 1\n",
      "currentday 1\n",
      "daily 1\n",
      "data 1\n",
      "difficult 1\n",
      "do 5\n",
      "else 1\n",
      "em 1\n",
      "essentially 1\n",
      "everyone 1\n",
      "explain 1\n",
      "fast 1\n",
      "figure 1\n",
      "find 1\n",
      "for 1\n",
      "from 2\n",
      "fun 1\n",
      "hardware 1\n",
      "have 1\n",
      "having 1\n",
      "helpful 1\n",
      "helping 1\n",
      "how 2\n",
      "humans 1\n",
      "if 2\n",
      "in 2\n",
      "interestingly 1\n",
      "is 2\n",
      "it 1\n",
      "kinds 2\n",
      "knew 2\n",
      "know 2\n",
      "language 2\n",
      "laptops 1\n",
      "like 2\n",
      "lives 1\n",
      "living 1\n",
      "making 1\n",
      "many 2\n",
      "me 1\n",
      "memory 1\n",
      "mindnumbing 1\n",
      "needs 1\n",
      "newfound 1\n",
      "next 2\n",
      "of 5\n",
      "often 1\n",
      "on 2\n",
      "once 1\n",
      "only 1\n",
      "or 1\n",
      "our 6\n",
      "out 1\n",
      "personal 1\n",
      "phones 1\n",
      "problem 2\n",
      "program 2\n",
      "programming 1\n",
      "programs 2\n",
      "question 1\n",
      "ranging 2\n",
      "reasons 1\n",
      "reptitive 1\n",
      "rewarding 1\n",
      "skills 1\n",
      "solve 1\n",
      "solving 1\n",
      "someone 1\n",
      "speak 1\n",
      "surrounded 1\n",
      "take 1\n",
      "tasks 1\n",
      "tell 1\n",
      "that 4\n",
      "the 7\n",
      "these 1\n",
      "things 3\n",
      "think 1\n",
      "this 2\n",
      "to 16\n",
      "us 2\n",
      "vasts 1\n",
      "very 2\n",
      "want 1\n",
      "we 7\n",
      "were 1\n",
      "what 3\n",
      "who 1\n",
      "will 1\n",
      "with 2\n",
      "would 2\n",
      "write 1\n",
      "writing 1\n",
      "you 5\n",
      "your 2\n"
     ]
    }
   ],
   "source": [
    "text_keys.sort() #sorting into alphabetic order\n",
    "max_value = max(text_dict.values())\n",
    "\n",
    "for key in text_keys:\n",
    "    value_key = text_dict[key]\n",
    "    print(key, text_dict[key]) \n",
    "    #if value_key >= max_value:\n",
    "    #    print(key, text_dict[key]) #printing the key and values\n",
    "    \n"
   ]
  },
  {
   "cell_type": "markdown",
   "metadata": {},
   "source": [
    "Exercise 2: Write a program that categorizes each mail message by which day of the week the commit was done. To do this look for lines that start with “From”, then look for the third word and keep a running count of each of the days of the week. At the end of the program print out the contents of your dictionary (order does not matter)."
   ]
  },
  {
   "cell_type": "code",
   "execution_count": 375,
   "metadata": {},
   "outputs": [
    {
     "data": {
      "text/plain": [
       "<_io.TextIOWrapper name='mbox-short.txt' mode='r' encoding='cp1252'>"
      ]
     },
     "execution_count": 375,
     "metadata": {},
     "output_type": "execute_result"
    }
   ],
   "source": [
    "#openning the file\n",
    "text_file = open('mbox-short.txt')\n",
    "text_file"
   ]
  },
  {
   "cell_type": "code",
   "execution_count": 376,
   "metadata": {},
   "outputs": [
    {
     "name": "stdout",
     "output_type": "stream",
     "text": [
      "{'Sat': 1, 'Fri': 20, 'Thu': 6}\n"
     ]
    }
   ],
   "source": [
    "dweek_count = {}\n",
    "\n",
    "for lines in text_file: # get line by line of the text and split the words into a list\n",
    "    words = lines.split()  \n",
    "    #print(words)\n",
    "    if 'From' in words: #checks if the list has 'From'\n",
    "        #print(words)\n",
    "        #print(words[2])\n",
    "        dweek_count[words[2]] = dweek_count.get(words[2], 0) + 1 #then gets the day of the week an insert into a key \n",
    "        #print(words[2], dweek_count[words[2]])                  #and the value starts with 1 and is adding plus if if already started\n",
    "        \n",
    "        \n",
    "print(dweek_count) #print out the dict with the counts"
   ]
  },
  {
   "cell_type": "markdown",
   "metadata": {},
   "source": [
    "Exercise 3: Write a program to read through a mail log, build a histogram using a dictionary to count how many messages have come from each email address, and print the dictionary."
   ]
  },
  {
   "cell_type": "code",
   "execution_count": 377,
   "metadata": {},
   "outputs": [
    {
     "data": {
      "text/plain": [
       "<_io.TextIOWrapper name='mbox-short.txt' mode='r' encoding='cp1252'>"
      ]
     },
     "execution_count": 377,
     "metadata": {},
     "output_type": "execute_result"
    }
   ],
   "source": [
    "#openning the file\n",
    "text_file = open('mbox-short.txt')\n",
    "text_file"
   ]
  },
  {
   "cell_type": "code",
   "execution_count": 378,
   "metadata": {},
   "outputs": [
    {
     "name": "stdout",
     "output_type": "stream",
     "text": [
      "{'stephen.marquard@uct.ac.za': 2, 'louis@media.berkeley.edu': 3, 'zqian@umich.edu': 4, 'rjlowe@iupui.edu': 2, 'cwen@iupui.edu': 5, 'gsilver@umich.edu': 3, 'wagnermr@iupui.edu': 1, 'antranig@caret.cam.ac.uk': 1, 'gopal.ramasammycook@gmail.com': 1, 'david.horwitz@uct.ac.za': 4, 'ray@media.berkeley.edu': 1}\n"
     ]
    }
   ],
   "source": [
    "mail_count = {}\n",
    "\n",
    "for lines in text_file: # get line by line of the text and split the words into a list\n",
    "    words = lines.split()  \n",
    "    #print(words)\n",
    "    if 'From' in words: #checks if the list has 'From'\n",
    "        #print(words)\n",
    "        #print(words[1])\n",
    "        mail_count[words[1]] = mail_count.get(words[1], 0) + 1 #then gets email an insert into a key \n",
    "        #print(words[1], dweek_count[words[2]])                  #and the value starts with 1 and is adding plus if if already started\n",
    "        \n",
    "        \n",
    "print(mail_count) #print out the dict with the counts"
   ]
  },
  {
   "cell_type": "markdown",
   "metadata": {},
   "source": [
    "Exercise 4: Add code to the above program to figure out who has the most messages in the file. After all the data has been read and the dictionary has been created, look through the dictionary using a maximum loop (see Chapter 5: Maximum and minimum loops) to find who has the most messages and print how many messages the person has."
   ]
  },
  {
   "cell_type": "code",
   "execution_count": 379,
   "metadata": {},
   "outputs": [
    {
     "data": {
      "text/plain": [
       "<_io.TextIOWrapper name='mbox-short.txt' mode='r' encoding='cp1252'>"
      ]
     },
     "execution_count": 379,
     "metadata": {},
     "output_type": "execute_result"
    }
   ],
   "source": [
    "#openning the file\n",
    "text_file = open('mbox-short.txt')\n",
    "text_file"
   ]
  },
  {
   "cell_type": "code",
   "execution_count": 380,
   "metadata": {},
   "outputs": [
    {
     "name": "stdout",
     "output_type": "stream",
     "text": [
      "cwen@iupui.edu 5\n"
     ]
    }
   ],
   "source": [
    "mail_count = {}\n",
    "\n",
    "for lines in text_file: # get line by line of the text and split the words into a list\n",
    "    words = lines.split()  \n",
    "    #print(words)\n",
    "    if 'From' in words: #checks if the list has 'From'\n",
    "        #print(words)\n",
    "        #print(words[1])\n",
    "        mail_count[words[1]] = mail_count.get(words[1], 0) + 1 #then gets email an insert into a key \n",
    "        #print(words[1], dweek_count[words[2]])                  #and the value starts with 1 and is adding plus if if already started\n",
    "        \n",
    "        \n",
    "for key in mail_count: # gets all keys in a list and loop\n",
    "    if mail_count[key] >= (max(mail_count.values())):  #then checks if it the key is for the maximmum number then print it out\n",
    "        print(key, mail_count[key])"
   ]
  },
  {
   "cell_type": "markdown",
   "metadata": {},
   "source": [
    "Exercise 5: This program records the domain name (instead of the address) where the message was sent from instead of who the mail came from (i.e., the whole email address). At the end of the program, print out the contents of your dictionary."
   ]
  },
  {
   "cell_type": "code",
   "execution_count": 381,
   "metadata": {},
   "outputs": [
    {
     "data": {
      "text/plain": [
       "<_io.TextIOWrapper name='mbox-short.txt' mode='r' encoding='cp1252'>"
      ]
     },
     "execution_count": 381,
     "metadata": {},
     "output_type": "execute_result"
    }
   ],
   "source": [
    "#openning the file\n",
    "text_file = open('mbox-short.txt')\n",
    "text_file"
   ]
  },
  {
   "cell_type": "code",
   "execution_count": 382,
   "metadata": {},
   "outputs": [
    {
     "name": "stdout",
     "output_type": "stream",
     "text": [
      "{'uct.ac.za': 6, 'media.berkeley.edu': 4, 'umich.edu': 7, 'iupui.edu': 8, 'caret.cam.ac.uk': 1, 'gmail.com': 1}\n"
     ]
    }
   ],
   "source": [
    "domain_count = {}\n",
    "\n",
    "for lines in text_file: # get line by line of the text and split the words into a list\n",
    "    words = lines.split()  \n",
    "    #print(words)\n",
    "    if 'From' in words: #checks if the list has 'From'\n",
    "        #print(words)\n",
    "        #print(words[1])\n",
    "        domain_adress = words[1] #puts the email in the variable (e-mail is the second word of the list)\n",
    "        #print(domain_adress)\n",
    "        find_start = domain_adress.find('@') #find whe starts the doaming seraching for the @\n",
    "        #print(domain_adress)\n",
    "        domain_adress = domain_adress[find_start+1:] #gets the domaing name by the start plus 1 that is the index to start\n",
    "        #print(domain_adress)\n",
    "        domain_count[domain_adress] = domain_count.get(domain_adress, 0) + 1 #then gets the domaing and insert into a key \n",
    "        #print(words[1], dweek_count[words[2]])                  #and the value starts with 1 and is adding plus if if already started\n",
    "        \n",
    "        \n",
    "print(domain_count)"
   ]
  },
  {
   "cell_type": "code",
   "execution_count": null,
   "metadata": {},
   "outputs": [],
   "source": []
  }
 ],
 "metadata": {
  "interpreter": {
   "hash": "b7a0eeec05bf01b642157d05502471234af548168a2403572fa197cf2e81eaeb"
  },
  "kernelspec": {
   "display_name": "Python 3.8.8 64-bit ('base': conda)",
   "name": "python3"
  },
  "language_info": {
   "codemirror_mode": {
    "name": "ipython",
    "version": 3
   },
   "file_extension": ".py",
   "mimetype": "text/x-python",
   "name": "python",
   "nbconvert_exporter": "python",
   "pygments_lexer": "ipython3",
   "version": "3.7.11"
  },
  "orig_nbformat": 4
 },
 "nbformat": 4,
 "nbformat_minor": 2
}
