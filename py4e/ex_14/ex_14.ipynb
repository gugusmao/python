{
 "cells": [
  {
   "cell_type": "code",
   "execution_count": 1,
   "metadata": {},
   "outputs": [
    {
     "data": {
      "text/plain": [
       "<sqlite3.Cursor at 0x23a6fad68f0>"
      ]
     },
     "execution_count": 1,
     "metadata": {},
     "output_type": "execute_result"
    }
   ],
   "source": [
    "import sqlite3\n",
    "\n",
    "conn = sqlite3.connect('music.sqlite')\n",
    "cur = conn.cursor()\n",
    "\n",
    "cur.execute('DROP TABLE IF EXISTS Tracks')\n",
    "cur.execute('CREATE TABLE Tracks (title TEXT, plays INTEGER)')"
   ]
  },
  {
   "cell_type": "code",
   "execution_count": 32,
   "metadata": {},
   "outputs": [
    {
     "name": "stdout",
     "output_type": "stream",
     "text": [
      "Tracks:\n",
      "<class 'sqlite3.Cursor'>\n",
      "<sqlite3.Cursor object at 0x0000023A6FCB7B20>\n",
      "<class 'sqlite3.Cursor'>\n",
      "('Thunderstruck',)\n",
      "<class 'sqlite3.Cursor'>\n",
      "('My Way',)\n",
      "<class 'sqlite3.Cursor'>\n",
      "('Thunderstruck',)\n",
      "<class 'sqlite3.Cursor'>\n",
      "('My Way',)\n",
      "<class 'sqlite3.Cursor'>\n",
      "('Thunderstruck',)\n",
      "<class 'sqlite3.Cursor'>\n",
      "('My Way',)\n",
      "<class 'sqlite3.Cursor'>\n",
      "('Thunderstruck',)\n",
      "<class 'sqlite3.Cursor'>\n",
      "('My Way',)\n"
     ]
    },
    {
     "ename": "TypeError",
     "evalue": "'NoneType' object is not subscriptable",
     "output_type": "error",
     "traceback": [
      "\u001b[1;31m---------------------------------------------------------------------------\u001b[0m",
      "\u001b[1;31mTypeError\u001b[0m                                 Traceback (most recent call last)",
      "\u001b[1;32m~\\AppData\\Local\\Temp/ipykernel_14352/981174530.py\u001b[0m in \u001b[0;36m<module>\u001b[1;34m\u001b[0m\n\u001b[0;32m     19\u001b[0m     \u001b[0mprint\u001b[0m\u001b[1;33m(\u001b[0m\u001b[0mrow\u001b[0m\u001b[1;33m)\u001b[0m\u001b[1;33m\u001b[0m\u001b[1;33m\u001b[0m\u001b[0m\n\u001b[0;32m     20\u001b[0m \u001b[1;33m\u001b[0m\u001b[0m\n\u001b[1;32m---> 21\u001b[1;33m \u001b[0mcur\u001b[0m\u001b[1;33m.\u001b[0m\u001b[0mfetchone\u001b[0m\u001b[1;33m(\u001b[0m\u001b[1;33m)\u001b[0m\u001b[1;33m[\u001b[0m\u001b[1;36m0\u001b[0m\u001b[1;33m]\u001b[0m\u001b[1;33m\u001b[0m\u001b[1;33m\u001b[0m\u001b[0m\n\u001b[0m\u001b[0;32m     22\u001b[0m \u001b[1;33m\u001b[0m\u001b[0m\n\u001b[0;32m     23\u001b[0m \u001b[0mcur\u001b[0m\u001b[1;33m.\u001b[0m\u001b[0mexecute\u001b[0m\u001b[1;33m(\u001b[0m\u001b[1;34m'DELETE FROM Tracks WHERE plays < 100'\u001b[0m\u001b[1;33m)\u001b[0m\u001b[1;33m\u001b[0m\u001b[1;33m\u001b[0m\u001b[0m\n",
      "\u001b[1;31mTypeError\u001b[0m: 'NoneType' object is not subscriptable"
     ]
    }
   ],
   "source": [
    "import sqlite3\n",
    "\n",
    "conn = sqlite3.connect('music.sqlite')\n",
    "cur = conn.cursor()\n",
    "\n",
    "cur.execute('INSERT INTO Tracks (title, plays) VALUES (?, ?)',\n",
    "    ('Thunderstruck', 20))\n",
    "cur.execute('INSERT INTO Tracks (title, plays) VALUES (?, ?)',\n",
    "    ('My Way', 15))\n",
    "conn.commit()\n",
    "\n",
    "print('Tracks:')\n",
    "cur.execute(\"SELECT title FROM Tracks\")\n",
    "print(type(cur))\n",
    "\n",
    "print(cur)\n",
    "for row in cur:\n",
    "    print(type(cur))\n",
    "    print(row)\n",
    "    \n",
    "cur.fetchone()[0]\n",
    "\n",
    "cur.execute('DELETE FROM Tracks WHERE plays < 100')\n",
    "conn.commit()\n",
    "\n",
    "cur.close()\n",
    "\n",
    "# Code: http://www.py4e.com/code3/db2.py"
   ]
  },
  {
   "cell_type": "code",
   "execution_count": null,
   "metadata": {},
   "outputs": [],
   "source": []
  }
 ],
 "metadata": {
  "interpreter": {
   "hash": "b7a0eeec05bf01b642157d05502471234af548168a2403572fa197cf2e81eaeb"
  },
  "kernelspec": {
   "display_name": "Python 3.8.8 64-bit ('base': conda)",
   "language": "python",
   "name": "python3"
  },
  "language_info": {
   "codemirror_mode": {
    "name": "ipython",
    "version": 3
   },
   "file_extension": ".py",
   "mimetype": "text/x-python",
   "name": "python",
   "nbconvert_exporter": "python",
   "pygments_lexer": "ipython3",
   "version": "3.8.8"
  },
  "orig_nbformat": 4
 },
 "nbformat": 4,
 "nbformat_minor": 2
}
