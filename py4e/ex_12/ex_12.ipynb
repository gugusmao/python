{
 "cells": [
  {
   "cell_type": "markdown",
   "metadata": {},
   "source": [
    "Exercise 1: Change the socket program socket1.py to prompt the user for the URL so it can read any web page. You can use split('/') to break the URL into its component parts so you can extract the host name for the socket connect call. Add error checking using try and except to handle the condition where the user enters an improperly formatted or non-existent URL."
   ]
  },
  {
   "cell_type": "code",
   "execution_count": 26,
   "metadata": {},
   "outputs": [
    {
     "name": "stdout",
     "output_type": "stream",
     "text": [
      "<class 'list'>\n",
      "['https:', '', 'www.py4e.com', 'html3', '12-network']\n"
     ]
    }
   ],
   "source": [
    "import socket\n",
    "\n",
    "\n",
    "url_base = 'https://www.py4e.com/html3/12-network'\n",
    "\n",
    "url_split = url_base.split('/')\n",
    "url_host = url_split[1]\n",
    "print(type(url_split))\n",
    "print(url_split)"
   ]
  },
  {
   "cell_type": "code",
   "execution_count": 27,
   "metadata": {},
   "outputs": [
    {
     "name": "stdout",
     "output_type": "stream",
     "text": [
      "HTTP/1.1 400 Bad Request\n",
      "Server: cloudflare\n",
      "Date: Wed, 29 Dec 2021 01:29:16 GMT\n",
      "Content-Type: text/html\n",
      "Content-Length: 155\n",
      "Connection: close\n",
      "CF-RAY: -\n",
      "\n",
      "<html>\n",
      "<head><title>400 Bad Request</title></head>\n",
      "<body>\n",
      "<center><h1>400 Bad Request</h1></center>\n",
      "<hr><center>cloudflare</center>\n",
      "</body>\n",
      "</html>\n"
     ]
    }
   ],
   "source": [
    "import socket\n",
    "\n",
    "\n",
    "url_base = 'https://www.py4e.com/html3/12-network'\n",
    "\n",
    "url_split = url_base.split('/')\n",
    "url_host = url_split[1]\n",
    "print(type(url_split))\n",
    "print(url_split)\n",
    "\n",
    "mysock = socket.socket(socket.AF_INET, socket.SOCK_STREAM)\n",
    "mysock.connect((url_split[2], 80))\n",
    "cmd = 'GET {url_base} HTTP/1.0\\r\\n\\r\\n'.encode()\n",
    "mysock.send(cmd)\n",
    "\n",
    "while True:\n",
    "    data = mysock.recv(512)\n",
    "    if len(data) < 1:\n",
    "        break\n",
    "    print(data.decode(),end='')"
   ]
  },
  {
   "cell_type": "code",
   "execution_count": 28,
   "metadata": {},
   "outputs": [],
   "source": [
    "mysock.close()"
   ]
  },
  {
   "cell_type": "code",
   "execution_count": 40,
   "metadata": {},
   "outputs": [
    {
     "name": "stdout",
     "output_type": "stream",
     "text": [
      "HTTP/1.1 200 OK\n",
      "Date: Wed, 29 Dec 2021 02:01:18 GMT\n",
      "Server: Apache/2.4.18 (Ubuntu)\n",
      "Last-Modified: Sat, 13 May 2017 11:22:22 GMT\n",
      "ETag: \"a7-54f6609245537\"\n",
      "Accept-Ranges: bytes\n",
      "Content-Length: 167\n",
      "Cache-Control: max-age=0, no-cache, no-store, must-revalidate\n",
      "Pragma: no-cache\n",
      "Expires: Wed, 11 Jan 1984 05:00:00 GMT\n",
      "Connection: close\n",
      "Content-Type: text/plain\n",
      "\n",
      "But soft what light through yonder window breaks\n",
      "It is the east and Juliet is the sun\n",
      "Arise fair sun and kill the envious moon\n",
      "Who is already sick and pale with grief\n"
     ]
    }
   ],
   "source": [
    "import socket\n",
    "\n",
    "mysock = socket.socket(socket.AF_INET, socket.SOCK_STREAM)\n",
    "mysock.connect(('data.pr4e.org', 80))\n",
    "cmd = 'GET http://data.pr4e.org/romeo.txt HTTP/1.0\\r\\n\\r\\n'.encode()\n",
    "mysock.send(cmd)\n",
    "\n",
    "while True:\n",
    "    data = mysock.recv(512)\n",
    "    if len(data) < 1:\n",
    "        break\n",
    "    print(data.decode(),end='')\n",
    "\n",
    "mysock.close()\n",
    "\n",
    "# Code: http://www.py4e.com/code3/socket1.py"
   ]
  },
  {
   "cell_type": "markdown",
   "metadata": {},
   "source": [
    "Exercise 2: Change your socket program so that it counts the number of characters it has received and stops displaying any text after it has shown 3000 characters. The program should retrieve the entire document and count the total number of characters and display the count of the number of characters at the end of the document."
   ]
  },
  {
   "cell_type": "code",
   "execution_count": 6,
   "metadata": {},
   "outputs": [
    {
     "name": "stdout",
     "output_type": "stream",
     "text": [
      "monge.com.br\n",
      "HTTP/1.1 200 OK\n",
      "Date: Mon, 03 Jan 2022 18:24:51 GMT\n",
      "X-Mod-Pagespeed: 1.9.32.14-0\n",
      "X-UA-Compatible: IE=Edge,chrome=1\n",
      "Vary: Accept-Encoding\n",
      "Content-Length: 11743\n",
      "Content-Type: text/html; charset=UTF-8\n",
      "Age: 0\n",
      "X-Served-By: varnish-farm2.uni5.net\n",
      "X-Cache: MISS\n",
      "Accept-Ranges: bytes\n",
      "Connection: close\n",
      "\n",
      "<!DOCTYPE html>\n",
      "<!-- Marcação de microdados adicionada pelo Assistente de marcação para dados estruturados do Google. -->\n",
      "<html lang=pt-br>\n",
      "<head>\n",
      "\n",
      "    <!-- title projeto/blog -->\n",
      "    <title>WWW, URL e HTTP, o que sigificam estas siglas?</title>\n",
      "\n",
      "    <meta charset=UTF-8>\n",
      "    <meta http-equiv=X-UA-Compatible content=\"IE=edge\">\n",
      "    <meta name=viewport content=\"width=device-width, initial-scale=1\">\n",
      "    <link rel=alternate href=\"http://monge.com.br\" hreflang=pt-br />\n",
      "    <link rel=canonical href=\"http://monge.com.br\"/>\n",
      "\n",
      "    <!-- DESCRIPTION projeto/blog -->\n",
      "    <meta name=description content=\"O WWW é o conjunto de URL (local aonde está o site), o HTTP (protocolo para transferência de dados) e o HTML, o código/linguagem do site.\">\n",
      "\n",
      "    <meta name=author content=\"Monge Web - Consultoria SEO e Web sites - Porto Alegre - RS\">\n",
      "    <meta name=robots content=\"index, follow\">\n",
      "    <meta name=googlebot content=\"index, follow\">\n",
      "    <meta name=google-site-verification content=SfQOIfuJoBSaRQwXFg9J1UgTJMyHL1DrfhAl_pgG3Vg />\n",
      "\n",
      "    <!-- OG -->\n",
      "    <meta property=og:locale content=pt_BR>\n",
      "    <meta property=og:url content=\"http://www.monge.com.br\">\n",
      "    <meta property=og:title content=\"Monge Web - Consultoria SEO e Web sites - Porto Alegre - RS\">\n",
      "    <meta property=og:site_name content=\"Monge Web + Design\">\n",
      "    <meta property=og:description content=\"Melhore seu posicionamento no Google através sa consultoria SEO da Monge Web, de Porto Alegre.\">\n",
      "    <meta property=og:image content=\"http://monge.com.br/img/logo-og.jpg\">\n",
      "    <meta property=og:image:type content=\"image/jpeg\">\n",
      "    <meta property=og:type content=website>\n",
      "\n",
      "    <!-- Google Fonts -->\n",
      "    <link href=\"https://fonts.googleapis.com/css?family=Droid+Serif%7CMontserrat:700%7CRoboto:400,700%7CTitillium+Web:400,600,700\" rel=stylesheet>\n",
      "\n",
      "    <!-- Font Awesome -->\n",
      "    <link href=\"http://maxcdn.bootstrapcdn.com/font-awesome/4.1.0/css/font-awesome.min.css\" rel=stylesheet type=\"text/css\">\n",
      "\n",
      "    <!-- Bootstrap -->\n",
      "    <link rel=stylesheet type=\"text/css\" href=\"/css/A.bootstrap.min.css+animate.min.css+site.min.css+slick.min.css+slick-theme.min.css+jquery-ui.min.css,Mcc.2X5dZpfuKN.css.pagespeed.cf.gx5-SG8KH4.css\"/>\n",
      "\n",
      "    <!-- Plugin CSS -->\n",
      "    \n",
      "\n",
      "    <!-- CSS -->\n",
      "    \n",
      "\n",
      "    <!-- SEO -->\n",
      " \n",
      " 12031\n"
     ]
    }
   ],
   "source": [
    "import socket\n",
    "\n",
    "\n",
    "url_base = 'http://monge.com.br/blog-detalhe-seo-consultoria-web-sites/como-funciona-o-http-url-link-e-www-em-um-site/17/'\n",
    "\n",
    "url_split = url_base.split('/')\n",
    "url_host = url_split[2]\n",
    "print(url_host)\n",
    "\n",
    "mysock = socket.socket(socket.AF_INET, socket.SOCK_STREAM)\n",
    "mysock.connect((url_host, 80))\n",
    "cmd = f'GET {url_base} HTTP/1.0\\r\\n\\r\\n'.encode()\n",
    "mysock.send(cmd)\n",
    "\n",
    "count = 0\n",
    "\n",
    "while True:\n",
    "    data = mysock.recv(512)\n",
    "    data2 = data.decode()\n",
    "    count += int(len(data2))\n",
    "    #print(len(data2))\n",
    "    if count < 3000:\n",
    "        print(data.decode(),end='')\n",
    "    if len(data) < 1:\n",
    "        break\n",
    "    \n",
    "    \n",
    "print(\"\\n\",count)\n",
    "mysock.close()"
   ]
  },
  {
   "cell_type": "markdown",
   "metadata": {},
   "source": [
    "Exercise 3: Use urllib to replicate the previous exercise of (1) retrieving the document from a URL, (2) displaying up to 3000 characters, and (3) counting the overall number of characters in the document. Don’t worry about the headers for this exercise, simply show the first 3000 characters of the document contents."
   ]
  },
  {
   "cell_type": "code",
   "execution_count": 14,
   "metadata": {},
   "outputs": [
    {
     "name": "stdout",
     "output_type": "stream",
     "text": [
      "<!DOCTYPE html>\n",
      "<html class=\"client-nojs\" lang=\"pt\" dir=\"ltr\">\n",
      "<head>\n",
      "<meta charset=\"UTF-8\"/>\n",
      "<title>Lorem ipsum – Wikipédia, a enciclopédia livre</title>\n",
      "<script>document.documentElement.className=\"client-js\";RLCONF={\"wgBreakFrames\":false,\"wgSeparatorTransformTable\":[\",\\t.\",\" \\t,\"],\"wgDigitTransformTable\":[\"\",\"\"],\"wgDefaultDateFormat\":\"dmy\",\"wgMonthNames\":[\"\",\"janeiro\",\"fevereiro\",\"março\",\"abril\",\"maio\",\"junho\",\"julho\",\"agosto\",\"setembro\",\"outubro\",\"novembro\",\"dezembro\"],\"wgRequestId\":\"a2775c15-4aed-4e55-9ea7-21a3ed93f991\",\"wgCSPNonce\":false,\"wgCanonicalNamespace\":\"\",\"wgCanonicalSpecialPageName\":false,\"wgNamespaceNumber\":0,\"wgPageName\":\"Lorem_ipsum\",\"wgTitle\":\"Lorem ipsum\",\"wgCurRevisionId\":62452311,\"wgRevisionId\":62452311,\"wgArticleId\":532263,\"wgIsArticle\":true,\"wgIsRedirect\":false,\"wgAction\":\"view\",\"wgUserName\":null,\"wgUserGroups\":[\"*\"],\"wgCategories\":[\"Produção gráfica\",\"Tipografia\",\"Palavras, frases e expressões em latim\"],\"wgPageContentLanguage\":\"pt\",\"wgPageContentModel\":\"wikitext\",\"wgRelevantPageName\":\"Lorem_ipsum\",\"wgRelevantArticleId\":532263,\"wgIsProbablyEditable\":true,\"wgRelevantPageIsProbablyEditable\":true,\"wgRestrictionEdit\":[]\n",
      ",\"wgRestrictionMove\":[],\"wgPopupsFlags\":10,\"wgVisualEditor\":{\"pageLanguageCode\":\"pt\",\"pageLanguageDir\":\"ltr\",\"pageVariantFallbacks\":\"pt\"},\"wgMFDisplayWikibaseDescriptions\":{\"search\":true,\"nearby\":true,\"watchlist\":true,\"tagline\":true},\"wgWMESchemaEditAttemptStepOversample\":false,\"wgWMEPageLength\":4000,\"wgNoticeProject\":\"wikipedia\",\"wgMediaViewerOnClick\":true,\"wgMediaViewerEnabledByDefault\":true,\"wgULSCurrentAutonym\":\"português\",\"wgEditSubmitButtonLabelPublish\":true,\"wgCentralAuthMobileDomain\":false,\"wgULSPosition\":\"interlanguage\",\"wgULSisCompactLinksEnabled\":true,\"wgWikibaseItemId\":\"Q152036\",\"wgGENewcomerTasksGuidanceEnabled\":true,\"wgGEAskQuestionEnabled\":true,\"wgGELinkRecommendationsFrontendEnabled\":false,\"wgSiteNoticeId\":\"2.30\"};RLSTATE={\"ext.gadget.FeedbackHighlight-base\":\"ready\",\"ext.globalCssJs.user.styles\":\"ready\",\"site.styles\":\"ready\",\"user.styles\":\"ready\",\"ext.globalCssJs.user\":\"ready\",\"user\":\"ready\",\"user.options\":\"loading\",\"ext.cite.styles\":\"ready\",\"mediawiki.ui.button\":\n",
      "59103\n"
     ]
    }
   ],
   "source": [
    "import urllib.request\n",
    "\n",
    "fhand =  urllib.request.urlopen('https://pt.wikipedia.org/wiki/Lorem_ipsum')\n",
    "\n",
    "count = 0\n",
    "\n",
    "for line in fhand:\n",
    "    count += int(len(line))\n",
    "    if count < 3000:\n",
    "        print(line.decode().strip())    \n",
    "    \n",
    "print(count)"
   ]
  },
  {
   "cell_type": "markdown",
   "metadata": {},
   "source": [
    "Exercise 4: Change the urllinks.py program to extract and count paragraph (p) tags from the retrieved HTML document and display the count of the paragraphs as the output of your program. Do not display the paragraph text, only count them. Test your program on several small web pages as well as some larger web pages."
   ]
  },
  {
   "cell_type": "code",
   "execution_count": 18,
   "metadata": {},
   "outputs": [
    {
     "name": "stdout",
     "output_type": "stream",
     "text": [
      "<p class=\"description\">Encontre aqui explicações sobre as diversas áreas do conhecimento humano</p>\n",
      "<p class=\"excerpt\">Feedback é uma palavra inglesa que significa realimentar ou dar resposta a uma determinado pedido, ou acontecimento ( feed = alimentar e back = de volta). Está presente tanto no meio empresarial como nas...</p>\n",
      "<p class=\"excerpt\">Cidadania é o exercício dos direitos e deveres civis, políticos e sociais estabelecidos na Constituição de um país, por parte dos seus respectivos cidadãos (indivíduos que compõem determinada...</p>\n",
      "<p class=\"excerpt\">Metáfora é uma figura de linguagem em que se transfere o nome de uma coisa para outra com a qual é possível estabelecer uma relação de comparação. Para que a comparação possa ocorrer, devem...</p>\n",
      "<p class=\"excerpt\">Arte é a expressão de um ideal estético (ou seja, de um ideal de beleza) através de uma atividade criadora. É uma manifestação humana universal (existe em todas as culturas) que produz coisas...</p>\n",
      "<p class=\"excerpt\">Amor é um sentimento de carinho e demonstração de afeto que se desenvolve entre seres que possuem a capacidade de o demonstrar. O amor motiva a necessidade de proteção e pode se manifestar de...</p>\n",
      "<p class=\"excerpt\">A crônica é um gênero textual caracterizado por textos curtos, de linguagem simples e que retrata os aspectos da vida cotidiana, geralmente com toques de humor ou ironia. Publicadas em jornais e...</p>\n",
      "<p class=\"excerpt\">Nostalgia significa o estado de profunda tristeza causado pela falta de algo. É a sensação de saudade originada pela lembrança de um momento vivido no passado ou de pessoas que estão distantes. É um...</p>\n",
      "<p class=\"excerpt\">A cor depende da luz e a forma como é absorvida e refletida em uma determinada superfície. Os olhos vão captar as ondas eletromagnéticas que são refletidas e dependendo dos seus comprimentos de onda,...</p>\n",
      "<p class=\"excerpt\"></p>\n",
      "<p class=\"excerpt\">Deboísmo é um neologismo que surgiu na internet como uma corrente filosófica, onde a principal regra é “viver de boa com a vida”. Os criadores da “religião do Deboísmo”, Carlos Abelardo...</p>\n",
      "<p class=\"excerpt\">Comunhão parcial de bens é o regime que representa o compartilhamento de todos os patrimônios adquiridos pelo casal após a celebração do casamento civil. Os bens devem ser igualmente divididos...</p>\n",
      "<p class=\"excerpt\">A escala de Glasgow, conhecida também como a escala de coma de Glasgow (ECG) é uma escala de ordem neurológica capaz de medir e avaliar o nível de consciência de uma pessoa que tenha sofrido um...</p>\n",
      "<p class=\"excerpt\">Altruísta é um adjetivo que define um indivíduo que pratica o altruísmo, ou seja, que se dedica aos outros. O altruísmo também é visto como sinônimo de filantropia e solidariedade. O termo...</p>\n",
      "<p class=\"excerpt\">Dias úteis são todos aqueles onde o trabalho não está suspenso, com o funcionamento normal dos estabelecimentos de bens e serviços. Normalmente, este período de tempo abrange de segunda a...</p>\n",
      "<p class=\"excerpt\">Comunicação é uma palavra derivada do termo latino \"communicare\", que significa \"partilhar, participar algo, tornar comum\". Através da comunicação, os seres humanos e os animais partilham...</p>\n",
      "<p class=\"excerpt\">Avivamento é o ato de se avivar, ou seja, de se tornar mais vivo, mais ativo, mais intenso, despertado e nítido. Este é um termo bastante usado no âmbito religioso para se referir ao período de...</p>\n",
      "<p class=\"excerpt\">A sigla alemã SAP (Systeme, Anwendungen und Produkte in der Datenverarbeitung) é traduzida para o português como Sistemas, Aplicativos e Produtos para Processamento de Dados. O SAP é um software...</p>\n",
      "<p class=\"excerpt\">Psicanálise é um ramo clínico teórico que se ocupa em explicar o funcionamento da mente humana, ajudando a tratar distúrbios mentais e neuroses. O objeto de estudo da psicanálise concentra-se na...</p>\n",
      "<p class=\"excerpt\">Os emojis e emoticons são representações gráficas usadas para transmitir uma ideia, emoção ou sentimento. Esses símbolos são muito populares em comunicações online, como nas redes sociais, SMS e...</p>\n",
      "<p class=\"excerpt\">Na Bíblia, existem os Dez Mandamentos ou Decálogo, que consistem em 10 regras que foram dadas por Deus para o Seu povo, para que tivessem uma vida mais feliz e próspera. Deus deu esses mandamentos a Moisés,...</p>\n",
      "<p class=\"excerpt\">As qualidades são os bons aspectos que uma pessoa possui em sua personalidade e atitudes. Em oposto aos defeitos, as qualidades das pessoas são os pontos de sua personalidade que são apreciados, por seguir os...</p>\n",
      "<p class=\"excerpt\">Órgão emissor ou órgão expedidor é cada órgão público brasileiro, que emite aos cidadãos documentos como Carteira de Identidade (RG), Passaporte, CPF (Cadastro de Pessoa Física), etc. Cada documento é...</p>\n",
      "<p class=\"excerpt\">Arquétipo é um conceito da psicologia utilizado para representar padrões de comportamento associados a um personagem ou papel social. A mãe, o sábio e o herói são exemplos de arquétipos. Esses...</p>\n",
      "<p class=\"excerpt\">Órgão expedidor ou órgão emissor é o órgão público responsável por emitir documentos diversos aos cidadãos, como carteira de identidade (RG), certidão de nascimento, atestado de antecedentes criminais,...</p>\n",
      "<p class=\"excerpt\">A cor depende da luz e a forma como é absorvida e refletida em uma determinada superfície. Os olhos vão captar as ondas eletromagnéticas que são refletidas e dependendo dos seus comprimentos de onda, vemos...</p>\n",
      "<p class=\"excerpt\">Bodas de casamento é uma comemoração que celebra o aniversário de casamento, quando se renovam as promessas trocadas entre o casal. As bodas de casamento são comemoradas na data em que foi celebrada a união...</p>\n",
      "<p class=\"excerpt\">Resiliência é a capacidade de voltar ao estado normal. No campo da psicologia, resiliência significa resistência ao choque, à adversidade. É um termo usado em diversas áreas do conhecimento, tais como a...</p>\n",
      "<p class=\"description w-100 mw-685 pt10\">Ajudar cada pessoa a entender as diversas áreas do conhecimento humano, de forma descomplicada e através de experiências enriquecedoras.</p>\n",
      "29\n"
     ]
    }
   ],
   "source": [
    "# To run this, download the BeautifulSoup zip file\n",
    "# http://www.py4e.com/code3/bs4.zip\n",
    "# and unzip it in the same directory as this file\n",
    "\n",
    "import urllib.request, urllib.parse, urllib.error\n",
    "from bs4 import BeautifulSoup\n",
    "import ssl\n",
    "\n",
    "# Ignore SSL certificate errors\n",
    "ctx = ssl.create_default_context()\n",
    "ctx.check_hostname = False\n",
    "ctx.verify_mode = ssl.CERT_NONE\n",
    "\n",
    "url = input('Enter - ')\n",
    "html = urllib.request.urlopen(url, context=ctx).read()\n",
    "soup = BeautifulSoup(html, 'html.parser')\n",
    "\n",
    "count = 0\n",
    "\n",
    "# Retrieve all of the paragraphs tags\n",
    "tags = soup('p')\n",
    "for tag in tags:\n",
    "    print(tag)\n",
    "    count += 1\n",
    "    \n",
    "print(count)\n",
    "\n",
    "# Code: http://www.py4e.com/code3/urllinks.py"
   ]
  },
  {
   "cell_type": "markdown",
   "metadata": {},
   "source": [
    "Exercise 5: (Advanced) Change the socket program so that it only shows data after the headers and a blank line have been received. Remember that recv receives characters (newlines and all), not lines."
   ]
  },
  {
   "cell_type": "code",
   "execution_count": 37,
   "metadata": {},
   "outputs": [
    {
     "name": "stdout",
     "output_type": "stream",
     "text": [
      "But soft what light through yonder window breaks\n",
      "It is the east and Juliet is the sun\n",
      "Arise fair sun and kill the envious moon\n",
      "Who \n",
      "already sick and pale with grief\n",
      "\n"
     ]
    }
   ],
   "source": [
    "import socket\n",
    "import re\n",
    "\n",
    "mysock = socket.socket(socket.AF_INET, socket.SOCK_STREAM)\n",
    "mysock.connect(('data.pr4e.org', 80))\n",
    "cmd = 'GET http://data.pr4e.org/romeo.txt HTTP/1.0\\r\\n\\r\\n'.encode()\n",
    "mysock.send(cmd)\n",
    "\n",
    "\n",
    "\n",
    "while True:\n",
    "    data = mysock.recv(500)\n",
    "    if len(data) < 1:\n",
    "        break    \n",
    "    message = data.decode()\n",
    "    header_end_pos = message.find('\\r\\n\\r\\n') + 4\n",
    "    #print(header_end_pos)\n",
    "    print(message[header_end_pos:])\n",
    "\n",
    "mysock.close()\n",
    "\n",
    "# Code: http://www.py4e.com/code3/socket1.py"
   ]
  },
  {
   "cell_type": "code",
   "execution_count": null,
   "metadata": {},
   "outputs": [],
   "source": []
  }
 ],
 "metadata": {
  "interpreter": {
   "hash": "b7a0eeec05bf01b642157d05502471234af548168a2403572fa197cf2e81eaeb"
  },
  "kernelspec": {
   "display_name": "Python 3.8.8 64-bit ('base': conda)",
   "language": "python",
   "name": "python3"
  },
  "language_info": {
   "codemirror_mode": {
    "name": "ipython",
    "version": 3
   },
   "file_extension": ".py",
   "mimetype": "text/x-python",
   "name": "python",
   "nbconvert_exporter": "python",
   "pygments_lexer": "ipython3",
   "version": "3.8.8"
  },
  "orig_nbformat": 4
 },
 "nbformat": 4,
 "nbformat_minor": 2
}
